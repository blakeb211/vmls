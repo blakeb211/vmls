{
 "cells": [
  {
   "cell_type": "code",
   "execution_count": 17,
   "id": "c54f9d2a",
   "metadata": {},
   "outputs": [],
   "source": [
    "using LinearAlgebra\n",
    "v1 = [2,3,4];\n",
    "v2 = [4,5,8];\n",
    "v3 = [2.2,4.4,1.1];"
   ]
  },
  {
   "cell_type": "code",
   "execution_count": 22,
   "id": "ca7e6081",
   "metadata": {},
   "outputs": [
    {
     "data": {
      "text/plain": [
       "3-element Vector{Float64}:\n",
       " 1.632993161855452\n",
       " 4.730750469005948\n",
       " 3.1379398762032817"
      ]
     },
     "execution_count": 22,
     "metadata": {},
     "output_type": "execute_result"
    }
   ],
   "source": [
    "norms = [norm(v1-v2), norm(v2-v3), norm(v3-v1)]"
   ]
  },
  {
   "cell_type": "code",
   "execution_count": 23,
   "id": "077bc796",
   "metadata": {},
   "outputs": [
    {
     "data": {
      "text/plain": [
       "4.730750469005948"
      ]
     },
     "execution_count": 23,
     "metadata": {},
     "output_type": "execute_result"
    }
   ],
   "source": [
    "norm(v2-v3)"
   ]
  },
  {
   "cell_type": "code",
   "execution_count": 24,
   "id": "0304fe79",
   "metadata": {},
   "outputs": [
    {
     "data": {
      "text/plain": [
       "3.1379398762032817"
      ]
     },
     "execution_count": 24,
     "metadata": {},
     "output_type": "execute_result"
    }
   ],
   "source": [
    "norm(v3-v1)"
   ]
  },
  {
   "cell_type": "code",
   "execution_count": 26,
   "id": "04326582",
   "metadata": {},
   "outputs": [],
   "source": [
    "v1 = v1 .- mean(v1);\n",
    "v2 = v2 .- mean(v2);\n",
    "v3 = v3 .- mean(v3);"
   ]
  },
  {
   "cell_type": "code",
   "execution_count": 27,
   "id": "eb0e9ac5",
   "metadata": {},
   "outputs": [
    {
     "data": {
      "text/plain": [
       "3×3 Matrix{Float64}:\n",
       " -1.0  -1.66667   -0.366667\n",
       "  0.0  -0.666667   1.83333\n",
       "  1.0   2.33333   -1.46667"
      ]
     },
     "execution_count": 27,
     "metadata": {},
     "output_type": "execute_result"
    }
   ],
   "source": [
    "hcat(v1,v2,v3)"
   ]
  },
  {
   "cell_type": "markdown",
   "id": "07dd29f2",
   "metadata": {},
   "source": [
    "Start with a set of **N vectors x_i**, cluster them into **k groups**\n",
    "\n",
    "c is an N-vector of the group assignments for each x_i (e.g. c1 = group number for vector x1)\n",
    "\n",
    "G_j is the set of indices corresponding to group j\n",
    "\n",
    "Each group has a group representative n-vector given by z_1...z_k\n",
    "\n",
    "x_i is in group j=c_i, so z_ci is the representative vector for data vector x_i\n",
    "\n",
    "We want the quantities ||x_i - z_ci|| **to be small**.\n"
   ]
  },
  {
   "cell_type": "markdown",
   "id": "4feaff11",
   "metadata": {},
   "source": [
    "Jᶜˡᵘˢᵗ = (  sum(   norm(  x[i] - z[ c[i] ]  )^2   )  )/N   ; this is the sum of the mean square distance from the vectors to their associated representatives"
   ]
  },
  {
   "cell_type": "code",
   "execution_count": null,
   "id": "12faae45",
   "metadata": {},
   "outputs": [],
   "source": []
  }
 ],
 "metadata": {
  "kernelspec": {
   "display_name": "Julia 1.7.1",
   "language": "julia",
   "name": "julia-1.7"
  },
  "language_info": {
   "file_extension": ".jl",
   "mimetype": "application/julia",
   "name": "julia",
   "version": "1.7.1"
  }
 },
 "nbformat": 4,
 "nbformat_minor": 5
}
